{
 "cells": [
  {
   "cell_type": "code",
   "execution_count": 2,
   "id": "b710c49c",
   "metadata": {},
   "outputs": [
    {
     "name": "stdout",
     "output_type": "stream",
     "text": [
      "\n",
      "✅ Model Performance Summary\n",
      "Accuracy:  100.00%\n",
      "Precision: 100.00%\n",
      "Recall:    100.00%\n",
      "F1 Score:  100.00%\n"
     ]
    },
    {
     "data": {
      "image/png": "[encoded data removed]",
      "text/plain": [
       "<Figure size 600x400 with 2 Axes>"
      ]
     },
     "metadata": {},
     "output_type": "display_data"
    },
    {
     "name": "stdout",
     "output_type": "stream",
     "text": [
      "✅ Model saved as 'diabetes_model.pkl' and columns saved as 'model_columns.pkl'\n"
     ]
    }
   ],
   "source": [
    "import pandas as pd\n",
    "import joblib\n",
    "import matplotlib.pyplot as plt\n",
    "import seaborn as sns\n",
    "\n",
    "from sklearn.model_selection import train_test_split\n",
    "from sklearn.preprocessing import StandardScaler, OneHotEncoder\n",
    "from sklearn.compose import ColumnTransformer\n",
    "from sklearn.pipeline import Pipeline\n",
    "from sklearn.ensemble import RandomForestClassifier\n",
    "from sklearn.calibration import CalibratedClassifierCV\n",
    "from sklearn.metrics import accuracy_score, precision_score, recall_score, f1_score, confusion_matrix\n",
    "\n",
    "# Load dataset\n",
    "df = pd.read_csv('diabetes_risk_dataset.csv')\n",
    "\n",
    "# Ensure target is integer\n",
    "df['Diabetes'] = df['Diabetes'].astype(int)\n",
    "\n",
    "# Column types\n",
    "numerical = ['Age', 'BMI', 'BloodPressure', 'Glucose']\n",
    "categorical = ['Gender', 'PhysicalActivity']\n",
    "binary = ['FamilyHistory', 'PastHighBloodSugar', 'Hypertension',\n",
    "          'GestationalDiabetes', 'PCOS', 'Smoking', 'Alcohol']\n",
    "\n",
    "# Reorder columns for consistent processing\n",
    "all_features = numerical + categorical + binary\n",
    "X = df[all_features]\n",
    "y = df['Diabetes']\n",
    "\n",
    "# Preprocessing\n",
    "preprocessor = ColumnTransformer([\n",
    "    ('num', StandardScaler(), numerical),\n",
    "    ('cat', OneHotEncoder(drop='first', handle_unknown='ignore'), categorical)\n",
    "], remainder='passthrough')\n",
    "\n",
    "# Random Forest with class_weight\n",
    "rf = RandomForestClassifier(n_estimators=100, class_weight='balanced', random_state=42)\n",
    "\n",
    "# Full pipeline\n",
    "pipeline = Pipeline([\n",
    "    ('preprocessor', preprocessor),\n",
    "    ('classifier', rf)\n",
    "])\n",
    "\n",
    "# Train-test split\n",
    "X_train, X_test, y_train, y_test = train_test_split(X, y, test_size=0.2, random_state=42)\n",
    "\n",
    "# Fit base pipeline\n",
    "pipeline.fit(X_train, y_train)\n",
    "\n",
    "# Calibrate the classifier\n",
    "calibrated_model = CalibratedClassifierCV(pipeline, method='isotonic', cv=5)\n",
    "calibrated_model.fit(X_train, y_train)\n",
    "\n",
    "# Predictions\n",
    "y_pred = calibrated_model.predict(X_test)\n",
    "y_proba = calibrated_model.predict_proba(X_test)[:, 1]\n",
    "\n",
    "# Metrics\n",
    "print(\"\\n✅ Model Performance Summary\")\n",
    "print(f\"Accuracy:  {accuracy_score(y_test, y_pred) * 100:.2f}%\")\n",
    "print(f\"Precision: {precision_score(y_test, y_pred) * 100:.2f}%\")\n",
    "print(f\"Recall:    {recall_score(y_test, y_pred) * 100:.2f}%\")\n",
    "print(f\"F1 Score:  {f1_score(y_test, y_pred) * 100:.2f}%\")\n",
    "\n",
    "# Confusion Matrix\n",
    "cm = confusion_matrix(y_test, y_pred)\n",
    "plt.figure(figsize=(6, 4))\n",
    "sns.heatmap(cm, annot=True, fmt='d', cmap='Blues',\n",
    "            xticklabels=[\"No Diabetes\", \"Diabetes\"],\n",
    "            yticklabels=[\"No Diabetes\", \"Diabetes\"])\n",
    "plt.xlabel('Predicted')\n",
    "plt.ylabel('Actual')\n",
    "plt.title('Confusion Matrix')\n",
    "plt.tight_layout()\n",
    "plt.show()\n",
    "\n",
    "# Save model and columns\n",
    "joblib.dump(calibrated_model, 'diabetes_model.pkl')\n",
    "joblib.dump(all_features, 'model_columns.pkl')\n",
    "print(\"✅ Model saved as 'diabetes_model.pkl' and columns saved as 'model_columns.pkl'\")\n"
   ]
  },
  {
   "cell_type": "markdown",
   "id": "66173260",
   "metadata": {},
   "source": [
    "import pandas as pd\n",
    "#hello wordl"
   ]
  },
  {
   "cell_type": "code",
   "execution_count": 3,
   "id": "a012278d",
   "metadata": {},
   "outputs": [
    {
     "name": "stdout",
     "output_type": "stream",
     "text": [
      "Diabetes\n",
      "0    444\n",
      "1     56\n",
      "Name: count, dtype: int64\n",
      "Total rows: 500\n"
     ]
    }
   ],
   "source": [
    "print(df['Diabetes'].value_counts())\n",
    "print(\"Total rows:\", len(df))\n"
   ]
  },
  {
   "cell_type": "code",
   "execution_count": 4,
   "id": "28c62ff0",
   "metadata": {},
   "outputs": [
    {
     "name": "stdout",
     "output_type": "stream",
     "text": [
      "Duplicate rows: 0\n"
     ]
    }
   ],
   "source": [
    "print(\"Duplicate rows:\", df.duplicated().sum())\n"
   ]
  },
  {
   "cell_type": "code",
   "execution_count": 6,
   "id": "6866180a",
   "metadata": {},
   "outputs": [
    {
     "name": "stdout",
     "output_type": "stream",
     "text": [
      "Cross-validated accuracy: 0.994\n"
     ]
    }
   ],
   "source": [
    "from sklearn.model_selection import StratifiedKFold\n",
    "X_train, X_test, y_train, y_test = train_test_split(\n",
    "    X, y, test_size=0.2, stratify=y, random_state=42)\n",
    "from sklearn.model_selection import cross_val_score\n",
    "scores = cross_val_score(calibrated_model, X, y, cv=5, scoring='accuracy')\n",
    "print(\"Cross-validated accuracy:\", scores.mean())\n"
   ]
  },
  {
   "cell_type": "code",
   "execution_count": 8,
   "id": "1d720d86",
   "metadata": {},
   "outputs": [
    {
     "name": "stdout",
     "output_type": "stream",
     "text": [
      "\n",
      "✅ Model Performance Summary\n",
      "Accuracy:     96.00%\n",
      "Precision:    100.00%\n",
      "Recall:       63.64%\n",
      "F1 Score:     77.78%\n",
      "ROC AUC:      100.00%\n",
      "\n",
      "🔍 Classification Report\n",
      "              precision    recall  f1-score   support\n",
      "\n",
      "           0       0.96      1.00      0.98        89\n",
      "           1       1.00      0.64      0.78        11\n",
      "\n",
      "    accuracy                           0.96       100\n",
      "   macro avg       0.98      0.82      0.88       100\n",
      "weighted avg       0.96      0.96      0.96       100\n",
      "\n",
      "✅ Model saved as 'diabetes_model.pkl'\n"
     ]
    }
   ],
   "source": [
    "from sklearn.metrics import roc_auc_score, classification_report\n",
    "\n",
    "# Stratified Split\n",
    "X_train, X_test, y_train, y_test = train_test_split(\n",
    "    X, y, test_size=0.2, stratify=y, random_state=42\n",
    ")\n",
    "\n",
    "# Updated Model with class_weight\n",
    "pipeline = Pipeline([\n",
    "    ('preprocessor', preprocessor),\n",
    "    ('classifier', RandomForestClassifier(n_estimators=100, random_state=42, class_weight='balanced'))\n",
    "])\n",
    "\n",
    "# Fit\n",
    "pipeline.fit(X_train, y_train)\n",
    "\n",
    "# Predict\n",
    "y_pred = pipeline.predict(X_test)\n",
    "y_proba = pipeline.predict_proba(X_test)[:, 1]\n",
    "\n",
    "# Evaluation\n",
    "print(\"\\n✅ Model Performance Summary\")\n",
    "print(f\"Accuracy:     {accuracy_score(y_test, y_pred) * 100:.2f}%\")\n",
    "print(f\"Precision:    {precision_score(y_test, y_pred) * 100:.2f}%\")\n",
    "print(f\"Recall:       {recall_score(y_test, y_pred) * 100:.2f}%\")\n",
    "print(f\"F1 Score:     {f1_score(y_test, y_pred) * 100:.2f}%\")\n",
    "print(f\"ROC AUC:      {roc_auc_score(y_test, y_proba) * 100:.2f}%\")\n",
    "\n",
    "print(\"\\n🔍 Classification Report\")\n",
    "print(classification_report(y_test, y_pred))\n",
    "\n",
    "# Save model\n",
    "joblib.dump(pipeline, 'diabetes_model.pkl')\n",
    "print(\"✅ Model saved as 'diabetes_model.pkl'\")\n"
   ]
  },
  {
   "cell_type": "code",
   "execution_count": 9,
   "id": "7fce19c0",
   "metadata": {},
   "outputs": [
    {
     "name": "stdout",
     "output_type": "stream",
     "text": [
      "              precision    recall  f1-score   support\n",
      "\n",
      "           0       1.00      1.00      1.00        89\n",
      "           1       1.00      1.00      1.00        11\n",
      "\n",
      "    accuracy                           1.00       100\n",
      "   macro avg       1.00      1.00      1.00       100\n",
      "weighted avg       1.00      1.00      1.00       100\n",
      "\n",
      "[[89  0]\n",
      " [ 0 11]]\n"
     ]
    }
   ],
   "source": [
    "import numpy as np\n",
    "custom_threshold = 0.3  # try 0.3 or 0.35\n",
    "y_pred_thresh = (y_proba >= custom_threshold).astype(int)\n",
    "\n",
    "# Evaluate\n",
    "from sklearn.metrics import classification_report, confusion_matrix\n",
    "print(classification_report(y_test, y_pred_thresh))\n",
    "print(confusion_matrix(y_test, y_pred_thresh))\n"
   ]
  },
  {
   "cell_type": "code",
   "execution_count": 14,
   "id": "061838b2",
   "metadata": {},
   "outputs": [
    {
     "name": "stdout",
     "output_type": "stream",
     "text": [
      "Requirement already satisfied: imbalanced-learn in .\\env\\lib\\site-packages (0.13.0)\n",
      "Requirement already satisfied: numpy<3,>=1.24.3 in .\\env\\lib\\site-packages (from imbalanced-learn) (2.2.5)\n",
      "Requirement already satisfied: scipy<2,>=1.10.1 in .\\env\\lib\\site-packages (from imbalanced-learn) (1.15.2)\n",
      "Requirement already satisfied: scikit-learn<2,>=1.3.2 in .\\env\\lib\\site-packages (from imbalanced-learn) (1.6.1)\n",
      "Requirement already satisfied: sklearn-compat<1,>=0.1 in .\\env\\lib\\site-packages (from imbalanced-learn) (0.1.3)\n",
      "Requirement already satisfied: joblib<2,>=1.1.1 in .\\env\\lib\\site-packages (from imbalanced-learn) (1.5.0)\n",
      "Requirement already satisfied: threadpoolctl<4,>=2.0.0 in .\\env\\lib\\site-packages (from imbalanced-learn) (3.6.0)\n",
      "Note: you may need to restart the kernel to use updated packages.\n"
     ]
    },
    {
     "name": "stderr",
     "output_type": "stream",
     "text": [
      "\n",
      "[notice] A new release of pip is available: 24.0 -> 25.1.1\n",
      "[notice] To update, run: python.exe -m pip install --upgrade pip\n"
     ]
    }
   ],
   "source": [
    "%pip install imbalanced-learn\n"
   ]
  },
  {
   "cell_type": "code",
   "execution_count": 15,
   "id": "0c960ee0",
   "metadata": {},
   "outputs": [
    {
     "name": "stdout",
     "output_type": "stream",
     "text": [
      "\n",
      "✅ Model Performance Summary\n",
      "Accuracy:     98.00%\n",
      "Precision:    100.00%\n",
      "Recall:       81.82%\n",
      "F1 Score:     90.00%\n",
      "ROC AUC:      100.00%\n",
      "\n",
      "🔍 Classification Report\n",
      "              precision    recall  f1-score   support\n",
      "\n",
      "           0       0.98      1.00      0.99        89\n",
      "           1       1.00      0.82      0.90        11\n",
      "\n",
      "    accuracy                           0.98       100\n",
      "   macro avg       0.99      0.91      0.94       100\n",
      "weighted avg       0.98      0.98      0.98       100\n",
      "\n"
     ]
    },
    {
     "data": {
      "image/png": "[encoded data removed]",
      "text/plain": [
       "<Figure size 600x400 with 2 Axes>"
      ]
     },
     "metadata": {},
     "output_type": "display_data"
    },
    {
     "name": "stdout",
     "output_type": "stream",
     "text": [
      "✅ Model saved as 'diabetes_model.pkl'\n"
     ]
    }
   ],
   "source": [
    "# model_training.py\n",
    "\n",
    "import pandas as pd\n",
    "import joblib\n",
    "import matplotlib.pyplot as plt\n",
    "import seaborn as sns\n",
    "\n",
    "from sklearn.model_selection import train_test_split\n",
    "from sklearn.preprocessing import StandardScaler, OneHotEncoder\n",
    "from sklearn.compose import ColumnTransformer\n",
    "from sklearn.metrics import accuracy_score, precision_score, recall_score, f1_score, confusion_matrix, classification_report, roc_auc_score\n",
    "from sklearn.ensemble import RandomForestClassifier\n",
    "\n",
    "from imblearn.over_sampling import SMOTE\n",
    "from imblearn.pipeline import Pipeline  # ✅ from imblearn\n",
    "\n",
    "# Load dataset\n",
    "df = pd.read_csv('diabetes_risk_dataset.csv')\n",
    "df['Diabetes'] = df['Diabetes'].astype(int)\n",
    "\n",
    "# Features & target\n",
    "X = df.drop('Diabetes', axis=1)\n",
    "y = df['Diabetes']\n",
    "\n",
    "# Column types\n",
    "numerical = ['Age', 'BMI', 'BloodPressure', 'Glucose']\n",
    "categorical = ['Gender', 'PhysicalActivity']\n",
    "binary = ['FamilyHistory', 'PastHighBloodSugar', 'Hypertension',\n",
    "          'GestationalDiabetes', 'PCOS', 'Smoking', 'Alcohol']\n",
    "\n",
    "# Preprocessing\n",
    "preprocessor = ColumnTransformer([\n",
    "    ('num', StandardScaler(), numerical),\n",
    "    ('cat', OneHotEncoder(drop='first'), categorical)\n",
    "], remainder='passthrough')  # binary columns passed as-is\n",
    "\n",
    "# Full pipeline with SMOTE + Classifier\n",
    "pipeline = Pipeline([\n",
    "    ('preprocessor', preprocessor),\n",
    "    ('smote', SMOTE(random_state=42)),            # ✅ Apply SMOTE after preprocessing\n",
    "    ('classifier', RandomForestClassifier(n_estimators=100, random_state=42))\n",
    "])\n",
    "\n",
    "# Train/Test split\n",
    "X_train, X_test, y_train, y_test = train_test_split(\n",
    "    X, y, test_size=0.2, stratify=y, random_state=42)\n",
    "\n",
    "# Fit the pipeline\n",
    "pipeline.fit(X_train, y_train)\n",
    "\n",
    "# Predict\n",
    "y_pred = pipeline.predict(X_test)\n",
    "y_proba = pipeline.predict_proba(X_test)[:, 1]\n",
    "\n",
    "# Metrics\n",
    "print(\"\\n✅ Model Performance Summary\")\n",
    "print(f\"Accuracy:     {accuracy_score(y_test, y_pred) * 100:.2f}%\")\n",
    "print(f\"Precision:    {precision_score(y_test, y_pred) * 100:.2f}%\")\n",
    "print(f\"Recall:       {recall_score(y_test, y_pred) * 100:.2f}%\")\n",
    "print(f\"F1 Score:     {f1_score(y_test, y_pred) * 100:.2f}%\")\n",
    "print(f\"ROC AUC:      {roc_auc_score(y_test, y_proba) * 100:.2f}%\")\n",
    "\n",
    "print(\"\\n🔍 Classification Report\")\n",
    "print(classification_report(y_test, y_pred))\n",
    "\n",
    "# Confusion Matrix\n",
    "cm = confusion_matrix(y_test, y_pred)\n",
    "plt.figure(figsize=(6, 4))\n",
    "sns.heatmap(cm, annot=True, fmt='d', cmap='Blues',\n",
    "            xticklabels=[\"No Diabetes\", \"Diabetes\"],\n",
    "            yticklabels=[\"No Diabetes\", \"Diabetes\"])\n",
    "plt.xlabel('Predicted')\n",
    "plt.ylabel('Actual')\n",
    "plt.title('Confusion Matrix')\n",
    "plt.tight_layout()\n",
    "plt.show()\n",
    "\n",
    "# Save model\n",
    "joblib.dump(pipeline, 'diabetes_model.pkl')\n",
    "print(\"✅ Model saved as 'diabetes_model.pkl'\")\n"
   ]
  },
  {
   "cell_type": "code",
   "execution_count": null,
   "id": "9b57e8bd",
   "metadata": {},
   "outputs": [
    {
     "name": "stdout",
     "output_type": "stream",
     "text": [
      "X_test_transformed shape: (100, 14)\n",
      "shap_values shape: (100, 14, 2)\n",
      "Number of feature names: 14\n"
     ]
    },
    {
     "ename": "DimensionError",
     "evalue": "Length of features is not equal to the length of shap_values!",
     "output_type": "error",
     "traceback": [
      "\u001b[31m---------------------------------------------------------------------------\u001b[39m",
      "\u001b[31mDimensionError\u001b[39m                            Traceback (most recent call last)",
      "\u001b[36mCell\u001b[39m\u001b[36m \u001b[39m\u001b[32mIn[20]\u001b[39m\u001b[32m, line 37\u001b[39m\n\u001b[32m     34\u001b[39m \u001b[38;5;28mprint\u001b[39m(\u001b[33m\"\u001b[39m\u001b[33mNumber of feature names:\u001b[39m\u001b[33m\"\u001b[39m, \u001b[38;5;28mlen\u001b[39m(feature_names))\n\u001b[32m     36\u001b[39m i = \u001b[32m0\u001b[39m  \u001b[38;5;66;03m# index of the sample\u001b[39;00m\n\u001b[32m---> \u001b[39m\u001b[32m37\u001b[39m \u001b[43mshap\u001b[49m\u001b[43m.\u001b[49m\u001b[43mforce_plot\u001b[49m\u001b[43m(\u001b[49m\u001b[43mexplainer\u001b[49m\u001b[43m.\u001b[49m\u001b[43mexpected_value\u001b[49m\u001b[43m[\u001b[49m\u001b[32;43m1\u001b[39;49m\u001b[43m]\u001b[49m\u001b[43m,\u001b[49m\u001b[43m \u001b[49m\u001b[43mshap_values\u001b[49m\u001b[43m[\u001b[49m\u001b[32;43m1\u001b[39;49m\u001b[43m]\u001b[49m\u001b[43m[\u001b[49m\u001b[43mi\u001b[49m\u001b[43m]\u001b[49m\u001b[43m,\u001b[49m\u001b[43m \u001b[49m\u001b[43mX_test_transformed\u001b[49m\u001b[43m[\u001b[49m\u001b[43mi\u001b[49m\u001b[43m]\u001b[49m\u001b[43m,\u001b[49m\u001b[43m \u001b[49m\u001b[43mfeature_names\u001b[49m\u001b[43m=\u001b[49m\u001b[43mfeature_names\u001b[49m\u001b[43m)\u001b[49m\n\u001b[32m     39\u001b[39m \u001b[38;5;66;03m# 7. Slice SHAP values for positive class (index 1)\u001b[39;00m\n\u001b[32m     40\u001b[39m shap_class_1 = shap_values[\u001b[32m1\u001b[39m] \u001b[38;5;28;01mif\u001b[39;00m \u001b[38;5;28misinstance\u001b[39m(shap_values, \u001b[38;5;28mlist\u001b[39m) \u001b[38;5;28;01melse\u001b[39;00m shap_values[:, :, \u001b[32m1\u001b[39m]\n",
      "\u001b[36mFile \u001b[39m\u001b[32mf:\\projects\\postger_app\\env\\Lib\\site-packages\\shap\\plots\\_force.py:182\u001b[39m, in \u001b[36mforce\u001b[39m\u001b[34m(base_value, shap_values, features, feature_names, out_names, link, plot_cmap, matplotlib, show, figsize, ordering_keys, ordering_keys_time_format, text_rotation, contribution_threshold)\u001b[39m\n\u001b[32m    177\u001b[39m     \u001b[38;5;28;01mif\u001b[39;00m \u001b[38;5;28mlen\u001b[39m(features) == shap_values.shape[\u001b[32m1\u001b[39m] - \u001b[32m1\u001b[39m:\n\u001b[32m    178\u001b[39m         emsg += (\n\u001b[32m    179\u001b[39m             \u001b[33m\"\u001b[39m\u001b[33m You might be using an old format shap_values array with the base value \u001b[39m\u001b[33m\"\u001b[39m\n\u001b[32m    180\u001b[39m             \u001b[33m\"\u001b[39m\u001b[33mas the last column. In this case, just pass the array without the last column.\u001b[39m\u001b[33m\"\u001b[39m\n\u001b[32m    181\u001b[39m         )\n\u001b[32m--> \u001b[39m\u001b[32m182\u001b[39m     \u001b[38;5;28;01mraise\u001b[39;00m DimensionError(emsg)\n\u001b[32m    184\u001b[39m instance = Instance(np.zeros((\u001b[32m1\u001b[39m, \u001b[38;5;28mlen\u001b[39m(feature_names))), features)\n\u001b[32m    185\u001b[39m e = AdditiveExplanation(\n\u001b[32m    186\u001b[39m     base_value,\n\u001b[32m    187\u001b[39m     np.sum(shap_values[\u001b[32m0\u001b[39m, :]) + base_value,\n\u001b[32m   (...)\u001b[39m\u001b[32m    193\u001b[39m     DenseData(np.zeros((\u001b[32m1\u001b[39m, \u001b[38;5;28mlen\u001b[39m(feature_names))), \u001b[38;5;28mlist\u001b[39m(feature_names)),\n\u001b[32m    194\u001b[39m )\n",
      "\u001b[31mDimensionError\u001b[39m: Length of features is not equal to the length of shap_values!"
     ]
    }
   ],
   "source": [
    "import shap\n",
    "import numpy as np\n",
    "\n",
    "# 1. Transform training and test data with the pipeline preprocessor\n",
    "X_train_transformed = pipeline.named_steps['preprocessor'].transform(X_train)\n",
    "X_test_transformed = pipeline.named_steps['preprocessor'].transform(X_test)\n",
    "\n",
    "# 2. Extract the trained Random Forest model from the pipeline\n",
    "rf_model = pipeline.named_steps['classifier']\n",
    "\n",
    "# 3. Create a SHAP TreeExplainer for the Random Forest model\n",
    "explainer = shap.TreeExplainer(rf_model)\n",
    "\n",
    "# 4. Calculate SHAP values on the transformed test set\n",
    "shap_values = explainer.shap_values(X_test_transformed)\n",
    "\n",
    "# 5. Prepare feature names in the correct order:\n",
    "# Numerical features\n",
    "num_features = numerical\n",
    "\n",
    "# One-hot encoded categorical features\n",
    "cat_encoder = pipeline.named_steps['preprocessor'].named_transformers_['cat']\n",
    "cat_names = cat_encoder.get_feature_names_out(categorical)\n",
    "\n",
    "# Passthrough binary features\n",
    "passthrough_features = binary\n",
    "\n",
    "# Combine all feature names as the pipeline output columns\n",
    "feature_names = list(num_features) + list(cat_names) + list(passthrough_features)\n",
    "\n",
    "# 6. Check shapes for sanity\n",
    "print(\"X_test_transformed shape:\", X_test_transformed.shape)\n",
    "print(\"shap_values shape:\", np.array(shap_values).shape)  # Should be (samples, features, classes)\n",
    "print(\"Number of feature names:\", len(feature_names))\n",
    "\n",
    "\n",
    "# 7. Slice SHAP values for positive class (index 1)\n",
    "shap_class_1 = shap_values[1] if isinstance(shap_values, list) else shap_values[:, :, 1]\n",
    "\n",
    "# 8. Plot SHAP summary plot for positive class\n",
    "shap.summary_plot(shap_class_1, X_test_transformed, feature_names=feature_names)"
   ]
  },
  {
   "cell_type": "code",
   "execution_count": 24,
   "id": "51986486",
   "metadata": {},
   "outputs": [
    {
     "name": "stdout",
     "output_type": "stream",
     "text": [
      "✅ Model expects these input columns:\n",
      "['Age' 'Gender' 'BMI' 'BloodPressure' 'Glucose' 'FamilyHistory'\n",
      " 'PastHighBloodSugar' 'Hypertension' 'GestationalDiabetes' 'PCOS'\n",
      " 'PhysicalActivity' 'Smoking' 'Alcohol']\n"
     ]
    }
   ],
   "source": [
    "# If you loaded your model like this:\n",
    "model = joblib.load('diabetes_model.pkl')\n",
    "\n",
    "# Then check the expected input column names:\n",
    "expected_columns = model.named_steps['preprocessor'].feature_names_in_\n",
    "print(\"✅ Model expects these input columns:\")\n",
    "print(expected_columns)\n"
   ]
  },
  {
   "cell_type": "code",
   "execution_count": 26,
   "id": "794a5e24",
   "metadata": {},
   "outputs": [
    {
     "name": "stdout",
     "output_type": "stream",
     "text": [
      "\n",
      "✅ Model Performance Summary\n",
      "Accuracy:     99.00%\n",
      "Precision:    100.00%\n",
      "Recall:       94.12%\n",
      "F1 Score:     96.97%\n",
      "ROC AUC:      100.00%\n",
      "\n",
      "🔍 Classification Report\n",
      "              precision    recall  f1-score   support\n",
      "\n",
      "           0       0.99      1.00      0.99        83\n",
      "           1       1.00      0.94      0.97        17\n",
      "\n",
      "    accuracy                           0.99       100\n",
      "   macro avg       0.99      0.97      0.98       100\n",
      "weighted avg       0.99      0.99      0.99       100\n",
      "\n"
     ]
    },
    {
     "data": {
      "image/png": "[encoded data removed]",
      "text/plain": [
       "<Figure size 600x400 with 2 Axes>"
      ]
     },
     "metadata": {},
     "output_type": "display_data"
    },
    {
     "name": "stdout",
     "output_type": "stream",
     "text": [
      "\n",
      "✅ Model saved as 'diabetes_model.pkl'\n"
     ]
    }
   ],
   "source": [
    "import pandas as pd\n",
    "import joblib\n",
    "import matplotlib.pyplot as plt\n",
    "import seaborn as sns\n",
    "\n",
    "from sklearn.model_selection import train_test_split\n",
    "from sklearn.preprocessing import StandardScaler, OneHotEncoder\n",
    "from sklearn.compose import ColumnTransformer\n",
    "from sklearn.pipeline import Pipeline\n",
    "from sklearn.ensemble import RandomForestClassifier\n",
    "from sklearn.metrics import (accuracy_score, precision_score, recall_score,\n",
    "                             f1_score, roc_auc_score, confusion_matrix,\n",
    "                             classification_report)\n",
    "from sklearn.calibration import CalibratedClassifierCV\n",
    "from imblearn.pipeline import Pipeline as ImbPipeline  # Use imblearn Pipeline\n",
    "from imblearn.over_sampling import SMOTE\n",
    "\n",
    "# Load dataset\n",
    "df = pd.read_csv('diabetes_risk_dataset.csv')\n",
    "df['Diabetes'] = df['Diabetes'].astype(int)\n",
    "\n",
    "# Features and target\n",
    "X = df.drop('Diabetes', axis=1)\n",
    "y = df['Diabetes']\n",
    "\n",
    "# Column types\n",
    "numerical = ['Age', 'BMI', 'BloodPressure', 'Glucose']\n",
    "categorical = ['Gender', 'PhysicalActivity']\n",
    "binary = ['FamilyHistory', 'PastHighBloodSugar', 'Hypertension',\n",
    "          'GestationalDiabetes', 'PCOS', 'Smoking', 'Alcohol']\n",
    "\n",
    "# Preprocessing\n",
    "preprocessor = ColumnTransformer([\n",
    "    ('num', StandardScaler(), numerical),\n",
    "    ('cat', OneHotEncoder(drop='first'), categorical)\n",
    "], remainder='passthrough')  # Binary columns passed as-is\n",
    "\n",
    "# Base model\n",
    "base_model = RandomForestClassifier(n_estimators=100, random_state=42)\n",
    "calibrated_model = CalibratedClassifierCV(estimator=base_model, method='sigmoid', cv=5)\n",
    "\n",
    "# Final pipeline using imblearn's Pipeline (to include SMOTE)\n",
    "pipeline = ImbPipeline([\n",
    "    ('preprocessor', preprocessor),\n",
    "    ('smote', SMOTE(random_state=42)),\n",
    "    ('classifier', calibrated_model)\n",
    "])\n",
    "\n",
    "# Train-test split\n",
    "X_train, X_test, y_train, y_test = train_test_split(X, y, test_size=0.2, random_state=42)\n",
    "\n",
    "# Fit\n",
    "pipeline.fit(X_train, y_train)\n",
    "\n",
    "# Predict\n",
    "y_pred = pipeline.predict(X_test)\n",
    "y_proba = pipeline.predict_proba(X_test)[:, 1]\n",
    "\n",
    "# Performance\n",
    "print(\"\\n✅ Model Performance Summary\")\n",
    "print(f\"Accuracy:     {accuracy_score(y_test, y_pred) * 100:.2f}%\")\n",
    "print(f\"Precision:    {precision_score(y_test, y_pred) * 100:.2f}%\")\n",
    "print(f\"Recall:       {recall_score(y_test, y_pred) * 100:.2f}%\")\n",
    "print(f\"F1 Score:     {f1_score(y_test, y_pred) * 100:.2f}%\")\n",
    "print(f\"ROC AUC:      {roc_auc_score(y_test, y_proba) * 100:.2f}%\")\n",
    "\n",
    "# Classification Report\n",
    "print(\"\\n🔍 Classification Report\")\n",
    "print(classification_report(y_test, y_pred))\n",
    "\n",
    "# Confusion Matrix\n",
    "cm = confusion_matrix(y_test, y_pred)\n",
    "plt.figure(figsize=(6, 4))\n",
    "sns.heatmap(cm, annot=True, fmt='d', cmap='Blues',\n",
    "            xticklabels=[\"No Diabetes\", \"Diabetes\"],\n",
    "            yticklabels=[\"No Diabetes\", \"Diabetes\"])\n",
    "plt.xlabel('Predicted')\n",
    "plt.ylabel('Actual')\n",
    "plt.title('Confusion Matrix')\n",
    "plt.tight_layout()\n",
    "plt.show()\n",
    "\n",
    "# Save the model\n",
    "joblib.dump(pipeline, 'diabetes_model.pkl')\n",
    "print(\"\\n✅ Model saved as 'diabetes_model.pkl'\")\n"
   ]
  }
 ],
 "metadata": {
  "kernelspec": {
   "display_name": "env",
   "language": "python",
   "name": "python3"
  },
  "language_info": {
   "codemirror_mode": {
    "name": "ipython",
    "version": 3
   },
   "file_extension": ".py",
   "mimetype": "text/x-python",
   "name": "python",
   "nbconvert_exporter": "python",
   "pygments_lexer": "ipython3",
   "version": "3.12.3"
  }
 },
 "nbformat": 4,
 "nbformat_minor": 5
}
